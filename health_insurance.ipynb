{
 "cells": [
  {
   "cell_type": "code",
   "execution_count": 59,
   "metadata": {},
   "outputs": [],
   "source": [
    "import matplotlib.pyplot as plt\n",
    "import pandas as pd\n",
    "import numpy as np\n",
    "from sklearn import linear_model, model_selection, metrics\n"
   ]
  },
  {
   "cell_type": "code",
   "execution_count": 60,
   "metadata": {},
   "outputs": [
    {
     "data": {
      "text/plain": [
       "(1338, 7)"
      ]
     },
     "execution_count": 60,
     "metadata": {},
     "output_type": "execute_result"
    }
   ],
   "source": [
    "insurance = pd.read_csv('insurance.csv')\n",
    "insurance.shape"
   ]
  },
  {
   "cell_type": "code",
   "execution_count": 61,
   "metadata": {},
   "outputs": [
    {
     "data": {
      "text/html": [
       "<div>\n",
       "<style scoped>\n",
       "    .dataframe tbody tr th:only-of-type {\n",
       "        vertical-align: middle;\n",
       "    }\n",
       "\n",
       "    .dataframe tbody tr th {\n",
       "        vertical-align: top;\n",
       "    }\n",
       "\n",
       "    .dataframe thead th {\n",
       "        text-align: right;\n",
       "    }\n",
       "</style>\n",
       "<table border=\"1\" class=\"dataframe\">\n",
       "  <thead>\n",
       "    <tr style=\"text-align: right;\">\n",
       "      <th></th>\n",
       "      <th>age</th>\n",
       "      <th>sex</th>\n",
       "      <th>bmi</th>\n",
       "      <th>children</th>\n",
       "      <th>smoker</th>\n",
       "      <th>region</th>\n",
       "      <th>charges</th>\n",
       "    </tr>\n",
       "  </thead>\n",
       "  <tbody>\n",
       "    <tr>\n",
       "      <th>0</th>\n",
       "      <td>19</td>\n",
       "      <td>female</td>\n",
       "      <td>27.900</td>\n",
       "      <td>0</td>\n",
       "      <td>yes</td>\n",
       "      <td>southwest</td>\n",
       "      <td>16884.92400</td>\n",
       "    </tr>\n",
       "    <tr>\n",
       "      <th>1</th>\n",
       "      <td>18</td>\n",
       "      <td>male</td>\n",
       "      <td>33.770</td>\n",
       "      <td>1</td>\n",
       "      <td>no</td>\n",
       "      <td>southeast</td>\n",
       "      <td>1725.55230</td>\n",
       "    </tr>\n",
       "    <tr>\n",
       "      <th>2</th>\n",
       "      <td>28</td>\n",
       "      <td>male</td>\n",
       "      <td>33.000</td>\n",
       "      <td>3</td>\n",
       "      <td>no</td>\n",
       "      <td>southeast</td>\n",
       "      <td>4449.46200</td>\n",
       "    </tr>\n",
       "    <tr>\n",
       "      <th>3</th>\n",
       "      <td>33</td>\n",
       "      <td>male</td>\n",
       "      <td>22.705</td>\n",
       "      <td>0</td>\n",
       "      <td>no</td>\n",
       "      <td>northwest</td>\n",
       "      <td>21984.47061</td>\n",
       "    </tr>\n",
       "    <tr>\n",
       "      <th>4</th>\n",
       "      <td>32</td>\n",
       "      <td>male</td>\n",
       "      <td>28.880</td>\n",
       "      <td>0</td>\n",
       "      <td>no</td>\n",
       "      <td>northwest</td>\n",
       "      <td>3866.85520</td>\n",
       "    </tr>\n",
       "  </tbody>\n",
       "</table>\n",
       "</div>"
      ],
      "text/plain": [
       "   age     sex     bmi  children smoker     region      charges\n",
       "0   19  female  27.900         0    yes  southwest  16884.92400\n",
       "1   18    male  33.770         1     no  southeast   1725.55230\n",
       "2   28    male  33.000         3     no  southeast   4449.46200\n",
       "3   33    male  22.705         0     no  northwest  21984.47061\n",
       "4   32    male  28.880         0     no  northwest   3866.85520"
      ]
     },
     "execution_count": 61,
     "metadata": {},
     "output_type": "execute_result"
    }
   ],
   "source": [
    "insurance.head()"
   ]
  },
  {
   "cell_type": "code",
   "execution_count": 62,
   "metadata": {},
   "outputs": [
    {
     "data": {
      "text/html": [
       "<div>\n",
       "<style scoped>\n",
       "    .dataframe tbody tr th:only-of-type {\n",
       "        vertical-align: middle;\n",
       "    }\n",
       "\n",
       "    .dataframe tbody tr th {\n",
       "        vertical-align: top;\n",
       "    }\n",
       "\n",
       "    .dataframe thead th {\n",
       "        text-align: right;\n",
       "    }\n",
       "</style>\n",
       "<table border=\"1\" class=\"dataframe\">\n",
       "  <thead>\n",
       "    <tr style=\"text-align: right;\">\n",
       "      <th></th>\n",
       "      <th>age</th>\n",
       "      <th>sex</th>\n",
       "      <th>bmi</th>\n",
       "      <th>children</th>\n",
       "      <th>smoker</th>\n",
       "      <th>region</th>\n",
       "      <th>charges</th>\n",
       "    </tr>\n",
       "  </thead>\n",
       "  <tbody>\n",
       "    <tr>\n",
       "      <th>1333</th>\n",
       "      <td>50</td>\n",
       "      <td>male</td>\n",
       "      <td>30.97</td>\n",
       "      <td>3</td>\n",
       "      <td>no</td>\n",
       "      <td>northwest</td>\n",
       "      <td>10600.5483</td>\n",
       "    </tr>\n",
       "    <tr>\n",
       "      <th>1334</th>\n",
       "      <td>18</td>\n",
       "      <td>female</td>\n",
       "      <td>31.92</td>\n",
       "      <td>0</td>\n",
       "      <td>no</td>\n",
       "      <td>northeast</td>\n",
       "      <td>2205.9808</td>\n",
       "    </tr>\n",
       "    <tr>\n",
       "      <th>1335</th>\n",
       "      <td>18</td>\n",
       "      <td>female</td>\n",
       "      <td>36.85</td>\n",
       "      <td>0</td>\n",
       "      <td>no</td>\n",
       "      <td>southeast</td>\n",
       "      <td>1629.8335</td>\n",
       "    </tr>\n",
       "    <tr>\n",
       "      <th>1336</th>\n",
       "      <td>21</td>\n",
       "      <td>female</td>\n",
       "      <td>25.80</td>\n",
       "      <td>0</td>\n",
       "      <td>no</td>\n",
       "      <td>southwest</td>\n",
       "      <td>2007.9450</td>\n",
       "    </tr>\n",
       "    <tr>\n",
       "      <th>1337</th>\n",
       "      <td>61</td>\n",
       "      <td>female</td>\n",
       "      <td>29.07</td>\n",
       "      <td>0</td>\n",
       "      <td>yes</td>\n",
       "      <td>northwest</td>\n",
       "      <td>29141.3603</td>\n",
       "    </tr>\n",
       "  </tbody>\n",
       "</table>\n",
       "</div>"
      ],
      "text/plain": [
       "      age     sex    bmi  children smoker     region     charges\n",
       "1333   50    male  30.97         3     no  northwest  10600.5483\n",
       "1334   18  female  31.92         0     no  northeast   2205.9808\n",
       "1335   18  female  36.85         0     no  southeast   1629.8335\n",
       "1336   21  female  25.80         0     no  southwest   2007.9450\n",
       "1337   61  female  29.07         0    yes  northwest  29141.3603"
      ]
     },
     "execution_count": 62,
     "metadata": {},
     "output_type": "execute_result"
    }
   ],
   "source": [
    "insurance.tail()"
   ]
  },
  {
   "cell_type": "code",
   "execution_count": 63,
   "metadata": {},
   "outputs": [
    {
     "data": {
      "text/plain": [
       "<AxesSubplot:xlabel='bmi', ylabel='charges'>"
      ]
     },
     "execution_count": 63,
     "metadata": {},
     "output_type": "execute_result"
    },
    {
     "data": {
      "image/png": "[encoded data removed]",
      "text/plain": [
       "<Figure size 432x288 with 1 Axes>"
      ]
     },
     "metadata": {
      "needs_background": "light"
     },
     "output_type": "display_data"
    }
   ],
   "source": [
    "insurance.plot.scatter(\"bmi\", \"charges\")"
   ]
  },
  {
   "cell_type": "code",
   "execution_count": 64,
   "metadata": {},
   "outputs": [],
   "source": [
    "x_train, x_test, y_train, y_test = model_selection.train_test_split(insurance.bmi, insurance.charges, test_size = 0.3)"
   ]
  },
  {
   "cell_type": "code",
   "execution_count": 65,
   "metadata": {},
   "outputs": [],
   "source": [
    "regr = linear_model.LinearRegression()"
   ]
  },
  {
   "cell_type": "code",
   "execution_count": 66,
   "metadata": {},
   "outputs": [
    {
     "data": {
      "text/plain": [
       "LinearRegression()"
      ]
     },
     "execution_count": 66,
     "metadata": {},
     "output_type": "execute_result"
    }
   ],
   "source": [
    "regr.fit(np.array(x_train).reshape(-1,1), y_train)"
   ]
  },
  {
   "cell_type": "code",
   "execution_count": 67,
   "metadata": {},
   "outputs": [],
   "source": [
    "preds = regr.predict(np.array(x_test).reshape(-1,1))"
   ]
  },
  {
   "cell_type": "code",
   "execution_count": 68,
   "metadata": {},
   "outputs": [
    {
     "data": {
      "text/plain": [
       "1147     2261.56880\n",
       "164      5028.14660\n",
       "799     17904.52705\n",
       "554     17878.90068\n",
       "569     45702.02235\n",
       "Name: charges, dtype: float64"
      ]
     },
     "execution_count": 68,
     "metadata": {},
     "output_type": "execute_result"
    }
   ],
   "source": [
    "y_test.head()"
   ]
  },
  {
   "cell_type": "code",
   "execution_count": 69,
   "metadata": {},
   "outputs": [
    {
     "data": {
      "text/plain": [
       "array([13771.893608  , 12971.65340539, 11271.14297483, 17072.8844438 ,\n",
       "       16806.13770959, 11938.00981034, 12066.11843927, 10537.58945576,\n",
       "       10770.99284819, 13338.43016492, 12604.87664585, 11204.45629127,\n",
       "       12954.10427814, 16713.12733516, 14958.21461013, 11834.46995956,\n",
       "       12371.47325342, 15926.92643435, 11604.57639258, 15695.27795464,\n",
       "       12683.84771848, 11604.57639258, 14080.75824761, 11037.7395824 ,\n",
       "       16197.182994  , 14382.60323631, 12887.41759458, 11004.39624062,\n",
       "       13105.02677249, 12171.41320277, 13069.92851799, 10037.43932913,\n",
       "       10137.46935445, 14605.47715239, 14238.70039286, 10985.09220064,\n",
       "        9770.69259492, 19208.61323016, 14498.42747617, 11471.20302548,\n",
       "       13571.83355735, 10837.67953174, 14338.73041819, 10504.24611398,\n",
       "       12466.23854058, 13771.893608  , 15502.23755489, 13505.1468738 ,\n",
       "       14438.76044352, 13659.5791936 , 16042.7506742 , 14961.72443558,\n",
       "       13771.893608  , 12571.53330408, 14614.25171602, 12504.84662053,\n",
       "       17278.20923262, 14642.33031962, 13004.99674716, 11704.60641791,\n",
       "       13871.92363333, 13448.9896666 ,  9303.88581006, 12290.74726807,\n",
       "       11404.51634193, 10395.44152503, 15660.17970014, 14575.64363607,\n",
       "       14472.10378529, 14459.81939622, 11237.79963305, 12761.06387838,\n",
       "       13687.6577972 , 10184.85199803, 11293.95684025, 14382.60323631,\n",
       "       14038.64034221,  8470.30226567, 11371.17300015, 11537.88970903,\n",
       "       15038.94059548, 10637.61948109,  9798.77119852, 16930.73651307,\n",
       "       10570.93279754, 13378.79315759,  9868.96770752, 19787.73442943,\n",
       "       11448.38916005, 18320.6273913 , 14572.13381062,  9203.85578473,\n",
       "       14782.72333762, 15572.43406389, 12536.43504958, 17039.54110202,\n",
       "       10237.49937978, 15811.10219449, 15154.76483533, 10711.32581554,\n",
       "       13305.08682314, 10204.156038  , 10714.83564099, 12838.28003828,\n",
       "       10079.55723453, 13610.4416373 , 11834.46995956, 11637.91973436,\n",
       "       14607.23206512, 12360.94377707, 11837.97978501, 16467.43955366,\n",
       "       18513.66779105, 17072.8844438 , 14266.77899646, 14405.41710174,\n",
       "       12876.88811823, 15309.19715513, 14172.01370931,  9603.97588604,\n",
       "       11757.25379966, 15072.28393725, 10504.24611398, 18899.74859056,\n",
       "       14035.13051676, 12374.98307887, 13838.58029155, 14572.13381062,\n",
       "       11100.9164405 , 15038.94059548, 10337.52940511, 13171.71345604,\n",
       "       16432.34129916, 12404.8165952 , 14712.52682862, 13133.10537609,\n",
       "       12038.03983567, 14993.31286463, 14472.10378529, 12004.69649389,\n",
       "       15505.74738034, 10851.71883354, 14642.33031962, 13413.89141209,\n",
       "       14305.38707641, 12838.28003828, 11371.17300015, 12104.72651922,\n",
       "       12336.37499892, 15672.46408922, 13764.8739571 , 14538.79046884,\n",
       "       10904.36621529, 16739.45102604, 12738.25001296, 14958.21461013,\n",
       "       14782.72333762, 13271.74348137,  9517.98516251, 12971.65340539,\n",
       "       11171.1129495 ,  9670.66256959, 11623.88043256, 14782.72333762,\n",
       "       13271.74348137, 12304.78656987, 14080.75824761, 15239.00064613,\n",
       "       12336.37499892, 14537.03555612, 17355.42539253, 12915.49619818,\n",
       "       12338.12991165, 15038.94059548, 13938.61031688, 18899.74859056,\n",
       "       16004.14259425, 13108.53659794, 12804.93669651, 12704.90667118,\n",
       "       13371.77350669, 12438.15993697, 11623.88043256, 10170.81269623,\n",
       "       10599.01140114, 12871.62338006, 11448.38916005, 12704.90667118,\n",
       "       12747.02457658, 12992.71235809, 11204.45629127, 15589.98319114,\n",
       "       15425.02139499, 11404.51634193, 14421.21131627, 12504.84662053,\n",
       "       13471.80353202, 13340.18507764, 10470.90277221, 12238.09988632,\n",
       "       15193.37291528, 13203.30188509, 17801.17322469, 11904.66646856,\n",
       "       12504.84662053, 15116.15675538, 14071.98368398, 12838.28003828,\n",
       "       13147.14467789, 13571.83355735, 13705.20692445, 11483.48741456,\n",
       "       15870.76922715, 13305.08682314, 12271.4432281 , 15168.80413713,\n",
       "       16291.94828115, 15231.98099523, 11437.8596837 , 11553.68392356,\n",
       "       13940.36522961, 12325.84552257, 14782.72333762,  9865.45788207,\n",
       "       13271.74348137, 10869.26796079, 16274.3991539 , 16776.30419326,\n",
       "       13405.11684847, 13238.40013959, 15116.15675538, 11371.17300015,\n",
       "       16699.08803336, 13905.26697511, 13171.71345604, 15502.23755489,\n",
       "       13378.79315759, 10637.61948109,  9623.27992602, 12876.88811823,\n",
       "       13624.4809391 , 13805.23694978, 16397.24304466, 11471.20302548,\n",
       "       14472.10378529, 13071.68343071, 13238.40013959, 20251.03138884,\n",
       "       12004.69649389, 15905.86748165, 10746.42407004, 14338.73041819,\n",
       "       13069.92851799, 11704.60641791, 13305.08682314,  9537.28920249,\n",
       "       13405.11684847, 13062.90886709, 14705.50717772, 13738.55026623,\n",
       "       12171.41320277, 14038.64034221, 13378.79315759, 10737.64950641,\n",
       "       13038.34008894, 11104.42626595, 15705.80743099, 13880.69819695,\n",
       "       12396.04203157, 14071.98368398,  9711.02556227, 12438.15993697,\n",
       "       11950.29419941, 12080.15774107,  9804.0359367 , 15193.37291528,\n",
       "       10714.83564099, 12138.06986099, 13519.1861756 , 12992.71235809,\n",
       "       11097.40661505, 12009.96123207, 12738.25001296, 13871.92363333,\n",
       "       14459.81939622, 17973.15467174, 16428.83147371, 11604.57639258,\n",
       "       13108.53659794, 17432.64155243, 11104.42626595, 11950.29419941,\n",
       "       16004.14259425, 15138.97062081, 14186.05301111, 16502.53780816,\n",
       "       16039.24084875, 10781.52232454, 14884.50827568, 14138.67036753,\n",
       "       16042.7506742 , 14372.07375996, 12641.72981308,  9003.79573408,\n",
       "       11237.79963305, 10886.81708804,  9833.86945302, 15274.09890063,\n",
       "       15339.03067146, 13069.92851799, 15449.59017314, 14038.64034221,\n",
       "       10170.81269623, 18475.0597111 , 10470.90277221, 15539.09072211,\n",
       "       13589.3826846 , 16544.65571356, 12271.4432281 , 13726.26587715,\n",
       "       13996.52243681, 14382.60323631, 10104.12601268, 14382.60323631,\n",
       "       11553.68392356, 16042.7506742 ,  9342.49389001,  9633.80940237,\n",
       "       13069.92851799, 14071.98368398, 13649.04971725, 13456.0093175 ,\n",
       "       10290.14676153, 11171.1129495 , 12452.19923878, 14010.56173861,\n",
       "       14115.85650211, 15965.5345143 , 12501.33679508, 18552.275871  ,\n",
       "       11104.42626595, 12271.4432281 , 10170.81269623,  9737.34925314,\n",
       "       12957.61410359, 13098.00712159, 13378.79315759, 13971.95365866,\n",
       "       10770.99284819, 14805.53720305, 14189.56283656, 10325.24501603,\n",
       "       12711.92632208,  9942.67404197, 13938.61031688, 13726.26587715,\n",
       "       15270.58907518, 14421.21131627, 10937.70955707, 13589.3826846 ,\n",
       "       10537.58945576, 14305.38707641, 13371.77350669, 16472.70429183,\n",
       "       11471.20302548, 15733.88603459, 12538.1899623 , 11037.7395824 ,\n",
       "       12220.55075907, 13494.61739745, 16737.69611331, 12490.80731873,\n",
       "       13371.77350669, 12297.76691897, 13305.08682314, 11404.51634193,\n",
       "       11658.97868706, 10204.156038  , 12004.69649389, 18678.6295872 ,\n",
       "       12204.75654455, 11771.29310146, 12071.38317744, 14138.67036753,\n",
       "       14186.05301111, 16806.13770959, 15618.06179474, 12641.72981308,\n",
       "        8670.36231632, 15098.60762813, 17625.68195218,  9670.66256959,\n",
       "       11027.21010605, 14205.35705109,  9270.54246828, 13705.20692445,\n",
       "       13273.49839409, 11504.54636726, 11602.82147986, 14115.85650211,\n",
       "       13905.26697511, 12671.5633294 ])"
      ]
     },
     "execution_count": 69,
     "metadata": {},
     "output_type": "execute_result"
    }
   ],
   "source": [
    "preds"
   ]
  },
  {
   "cell_type": "code",
   "execution_count": 70,
   "metadata": {},
   "outputs": [
    {
     "data": {
      "text/plain": [
       "(array([  2.,   2.,  15.,  29.,   7.,  30.,  35., 105., 151.,  26.]),\n",
       " array([-44561.81477984, -38324.33568297, -32086.8565861 , -25849.37748923,\n",
       "        -19611.89839237, -13374.4192955 ,  -7136.94019863,   -899.46110177,\n",
       "          5338.0179951 ,  11575.49709197,  17812.97618884]),\n",
       " <BarContainer object of 10 artists>)"
      ]
     },
     "execution_count": 70,
     "metadata": {},
     "output_type": "execute_result"
    },
    {
     "data": {
      "image/png": "[encoded data removed]",
      "text/plain": [
       "<Figure size 432x288 with 1 Axes>"
      ]
     },
     "metadata": {
      "needs_background": "light"
     },
     "output_type": "display_data"
    }
   ],
   "source": [
    "residuals = preds - y_test\n",
    "plt.hist(residuals)"
   ]
  },
  {
   "cell_type": "code",
   "execution_count": 71,
   "metadata": {},
   "outputs": [
    {
     "data": {
      "text/plain": [
       "11601.42804120177"
      ]
     },
     "execution_count": 71,
     "metadata": {},
     "output_type": "execute_result"
    }
   ],
   "source": [
    "metrics.mean_squared_error(y_test, preds) ** 0.5"
   ]
  },
  {
   "cell_type": "code",
   "execution_count": 72,
   "metadata": {},
   "outputs": [
    {
     "data": {
      "image/png": "[encoded data removed]",
      "text/plain": [
       "<Figure size 432x288 with 1 Axes>"
      ]
     },
     "metadata": {
      "needs_background": "light"
     },
     "output_type": "display_data"
    }
   ],
   "source": [
    "plt.scatter(x_test, y_test,  color='black')\n",
    "plt.plot(x_test, preds, color='blue', linewidth=3)\n",
    "plt.xlabel('BMI')\n",
    "plt.ylabel('Charges')\n",
    "plt.title('A Graph Plot Showing Insurance Charges Against BMI')\n",
    "plt.show()"
   ]
  }
 ],
 "metadata": {
  "interpreter": {
   "hash": "220a7155f047786d4519f46456401a83cec737e58c46d99d9bc67e627304b03a"
  },
  "kernelspec": {
   "display_name": "Python 3.9.12 ('base')",
   "language": "python",
   "name": "python3"
  },
  "language_info": {
   "codemirror_mode": {
    "name": "ipython",
    "version": 3
   },
   "file_extension": ".py",
   "mimetype": "text/x-python",
   "name": "python",
   "nbconvert_exporter": "python",
   "pygments_lexer": "ipython3",
   "version": "3.9.12"
  },
  "orig_nbformat": 4
 },
 "nbformat": 4,
 "nbformat_minor": 2
}
